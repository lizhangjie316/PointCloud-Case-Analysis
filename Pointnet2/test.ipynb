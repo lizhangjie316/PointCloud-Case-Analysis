{
 "cells": [
  {
   "cell_type": "code",
   "execution_count": 1,
   "id": "b2c30b54-1339-4e3f-b94f-4518b28140cf",
   "metadata": {},
   "outputs": [
    {
     "name": "stdin",
     "output_type": "stream",
     "text": [
      "Enter password:  ······\n",
      "Verify password:  ······\n"
     ]
    },
    {
     "data": {
      "text/plain": [
       "'sha1:df72adedd320:1cfb4f1e6cf94de9e3a00c7a7f696c727df91e53'"
      ]
     },
     "execution_count": 1,
     "metadata": {},
     "output_type": "execute_result"
    }
   ],
   "source": [
    "## 打开ipython，输入\n",
    "from IPython.lib import passwd\n",
    "passwd()"
   ]
  },
  {
   "cell_type": "code",
   "execution_count": null,
   "id": "6604f12a-6684-47b8-a42d-a4a8a7466a54",
   "metadata": {},
   "outputs": [],
   "source": [
    "from notebook.auth import passwd; passwd()"
   ]
  },
  {
   "cell_type": "markdown",
   "id": "82107fc6-1b67-4701-b47e-74df34f472e4",
   "metadata": {},
   "source": [
    "# 测试point-transformer"
   ]
  },
  {
   "cell_type": "code",
   "execution_count": 1,
   "id": "ff9c53f2-43a4-4daa-b384-a4c7829f43e8",
   "metadata": {},
   "outputs": [
    {
     "data": {
      "text/plain": [
       "tensor([[[ 0.0642, -0.1267, -0.1921,  ..., -0.0090, -0.2466,  0.0445],\n",
       "         [ 0.0547, -0.0285, -0.2274,  ..., -0.0677, -0.1423, -0.0569],\n",
       "         [ 0.0277,  0.0397, -0.2060,  ..., -0.1719, -0.1802, -0.2717],\n",
       "         ...,\n",
       "         [ 0.1108,  0.0179, -0.1145,  ..., -0.1377, -0.0687, -0.2190],\n",
       "         [ 0.2059,  0.0150,  0.1726,  ..., -0.2690, -0.0273, -0.2763],\n",
       "         [ 0.0142, -0.1395, -0.2166,  ..., -0.0240, -0.2744,  0.0111]]],\n",
       "       grad_fn=<ViewBackward>)"
      ]
     },
     "execution_count": 1,
     "metadata": {},
     "output_type": "execute_result"
    }
   ],
   "source": [
    "import torch\n",
    "from point_transformer_pytorch import PointTransformerLayer\n",
    "\n",
    "attn = PointTransformerLayer(\n",
    "    dim = 128,\n",
    "    pos_mlp_hidden_dim = 64,\n",
    "    attn_mlp_hidden_mult = 4\n",
    ")\n",
    "\n",
    "feats = torch.randn(1, 16, 128)\n",
    "pos = torch.randn(1, 16, 3)\n",
    "mask = torch.ones(1, 16).bool()\n",
    "\n",
    "attn(feats, pos, mask = mask) # (1, 16, 128)"
   ]
  },
  {
   "cell_type": "code",
   "execution_count": 3,
   "id": "ce1ceb1f-983c-4210-a6eb-497e862ef216",
   "metadata": {},
   "outputs": [
    {
     "data": {
      "text/plain": [
       "tensor([[[ 0.0241, -0.0191, -0.0976,  ...,  0.2212, -0.2678,  0.0952],\n",
       "         [ 0.1390, -0.0343,  0.0007,  ...,  0.2690, -0.1854, -0.0077],\n",
       "         [ 0.2556,  0.0747,  0.0478,  ...,  0.1785, -0.1505,  0.0986],\n",
       "         ...,\n",
       "         [ 0.0556, -0.0697, -0.3138,  ...,  0.3024, -0.4022,  0.1563],\n",
       "         [ 0.2256,  0.1471, -0.3280,  ...,  0.3766, -0.2010,  0.0834],\n",
       "         [-0.1004, -0.2484, -0.3162,  ...,  0.4230, -0.0698, -0.1130]]],\n",
       "       grad_fn=<ViewBackward>)"
      ]
     },
     "execution_count": 3,
     "metadata": {},
     "output_type": "execute_result"
    }
   ],
   "source": [
    "import torch\n",
    "from point_transformer_pytorch import PointTransformerLayer\n",
    "\n",
    "attn = PointTransformerLayer(\n",
    "    dim = 128,\n",
    "    pos_mlp_hidden_dim = 64,\n",
    "    attn_mlp_hidden_mult = 4,\n",
    "    num_neighbors = 16          # only the 16 nearest neighbors would be attended to for each point\n",
    ")\n",
    "\n",
    "feats = torch.randn(1, 2048, 128)\n",
    "pos = torch.randn(1, 2048, 3)\n",
    "mask = torch.ones(1, 2048).bool()\n",
    "\n",
    "attn(feats, pos, mask = mask) # (1, 16, 128)"
   ]
  },
  {
   "cell_type": "markdown",
   "id": "27972566-523f-4bca-b34b-9c30b56e8861",
   "metadata": {},
   "source": [
    "# 测试torch.cat"
   ]
  },
  {
   "cell_type": "code",
   "execution_count": 8,
   "id": "3b4ccce8-c00f-4835-b7f8-1f239d3fd621",
   "metadata": {},
   "outputs": [
    {
     "name": "stdout",
     "output_type": "stream",
     "text": [
      "tensor([[9, 8, 8, 6],\n",
      "        [1, 7, 6, 9],\n",
      "        [4, 3, 8, 3]])\n",
      "tensor([[4, 7, 1, 2],\n",
      "        [6, 2, 8, 6],\n",
      "        [7, 9, 9, 3]])\n",
      "tensor([[9, 8, 8, 6, 4, 7, 1, 2],\n",
      "        [1, 7, 6, 9, 6, 2, 8, 6],\n",
      "        [4, 3, 8, 3, 7, 9, 9, 3]])\n",
      "tensor([[9, 8, 8, 6],\n",
      "        [1, 7, 6, 9],\n",
      "        [4, 3, 8, 3],\n",
      "        [4, 7, 1, 2],\n",
      "        [6, 2, 8, 6],\n",
      "        [7, 9, 9, 3]])\n"
     ]
    }
   ],
   "source": [
    "import torch\n",
    "a = torch.randint(1,10,(3,4))\n",
    "b = torch.randint(1,10,(3,4))\n",
    "print(a)\n",
    "print(b)\n",
    "print(torch.cat([a,b],1)) # dim=1  为横向上拼， dim=0   为纵向上拼\n",
    "print(torch.cat([a,b],0))"
   ]
  },
  {
   "cell_type": "markdown",
   "id": "4ca9ab4d-f796-47e2-a257-d23498e8727b",
   "metadata": {},
   "source": [
    "# torch.max使用\n",
    "- 输入\n",
    "\n",
    "input是softmax函数输出的一个tensor\n",
    "dim是max函数索引的维度0/1，0是每列的最大值，1是每行的最大值\n",
    "- 输出\n",
    "\n",
    "函数会返回两个tensor，第一个tensor是每行的最大值；第二个tensor是每行最大值的索引。\n",
    "[torch.max()使用讲解](https://www.jianshu.com/p/3ed11362b54f)"
   ]
  },
  {
   "cell_type": "code",
   "execution_count": 17,
   "id": "36d6074f-b137-4946-85cb-1c63b7b8a1f2",
   "metadata": {},
   "outputs": [
    {
     "name": "stdout",
     "output_type": "stream",
     "text": [
      "torch.Size([4, 64, 512])\n"
     ]
    }
   ],
   "source": [
    "c = torch.randint(1,10,(4,64,32,512))\n",
    "# print(c)\n",
    "d = torch.max(c, 2)[0]  # 第二个维度上，32个值取最大\n",
    "print(d.shape)  # torch.Size([4, 64, 512])"
   ]
  },
  {
   "attachments": {
    "473e3cd7-dbed-48c7-be40-e8a31bf83603.png": {
     "image/png": "[encoded data removed]"
    }
   },
   "cell_type": "markdown",
   "id": "a7ac5df8-3a90-4616-8cb4-e50f4fc3fc3d",
   "metadata": {},
   "source": [
    "# nn.Conv2d(last_channel, out_channel, 1)的使用\n",
    "nn.Conv2d(in_channels=3,out_channels=64,kernel_size=4,stride=2,padding=1)\n",
    "![image.png](attachment:473e3cd7-dbed-48c7-be40-e8a31bf83603.png)"
   ]
  },
  {
   "cell_type": "markdown",
   "id": "8e5eaf70-0da7-4ff9-a76a-b171ea563cba",
   "metadata": {},
   "source": [
    "# 测试one—hot编码"
   ]
  },
  {
   "cell_type": "code",
   "execution_count": 18,
   "id": "93d12a60-6939-453f-8b03-d8d608f9de21",
   "metadata": {},
   "outputs": [
    {
     "data": {
      "text/plain": [
       "Conv2d(4, 4, kernel_size=(1, 1), stride=(1, 1))"
      ]
     },
     "execution_count": 18,
     "metadata": {},
     "output_type": "execute_result"
    }
   ],
   "source": [
    "import torch.nn as nn\n",
    "\n",
    "nn.Conv2d(4,4,1)"
   ]
  },
  {
   "cell_type": "code",
   "execution_count": 30,
   "id": "2406fc4f-2acb-4cc2-8d16-4088d7b4fda8",
   "metadata": {},
   "outputs": [],
   "source": [
    "import torch as np"
   ]
  },
  {
   "cell_type": "code",
   "execution_count": 32,
   "id": "a01ceb2c-d346-4b3b-86a9-9164003fb1b1",
   "metadata": {},
   "outputs": [],
   "source": [
    "a = np.randint(0,10,(4,1))"
   ]
  },
  {
   "cell_type": "code",
   "execution_count": 33,
   "id": "cf1c2d24-c1f7-4054-8995-2c90cc6b9eb1",
   "metadata": {},
   "outputs": [
    {
     "data": {
      "text/plain": [
       "tensor([[1],\n",
       "        [5],\n",
       "        [3],\n",
       "        [4]])"
      ]
     },
     "execution_count": 33,
     "metadata": {},
     "output_type": "execute_result"
    }
   ],
   "source": [
    "a"
   ]
  },
  {
   "cell_type": "code",
   "execution_count": 34,
   "id": "bb6b8cb6-f760-4d08-a696-eb47c49ae6fc",
   "metadata": {},
   "outputs": [],
   "source": [
    "y = np.eye(16)"
   ]
  },
  {
   "cell_type": "code",
   "execution_count": 35,
   "id": "b10dffc0-5695-480e-8332-a3e196ab880e",
   "metadata": {},
   "outputs": [
    {
     "data": {
      "text/plain": [
       "tensor([[1., 0., 0., 0., 0., 0., 0., 0., 0., 0., 0., 0., 0., 0., 0., 0.],\n",
       "        [0., 1., 0., 0., 0., 0., 0., 0., 0., 0., 0., 0., 0., 0., 0., 0.],\n",
       "        [0., 0., 1., 0., 0., 0., 0., 0., 0., 0., 0., 0., 0., 0., 0., 0.],\n",
       "        [0., 0., 0., 1., 0., 0., 0., 0., 0., 0., 0., 0., 0., 0., 0., 0.],\n",
       "        [0., 0., 0., 0., 1., 0., 0., 0., 0., 0., 0., 0., 0., 0., 0., 0.],\n",
       "        [0., 0., 0., 0., 0., 1., 0., 0., 0., 0., 0., 0., 0., 0., 0., 0.],\n",
       "        [0., 0., 0., 0., 0., 0., 1., 0., 0., 0., 0., 0., 0., 0., 0., 0.],\n",
       "        [0., 0., 0., 0., 0., 0., 0., 1., 0., 0., 0., 0., 0., 0., 0., 0.],\n",
       "        [0., 0., 0., 0., 0., 0., 0., 0., 1., 0., 0., 0., 0., 0., 0., 0.],\n",
       "        [0., 0., 0., 0., 0., 0., 0., 0., 0., 1., 0., 0., 0., 0., 0., 0.],\n",
       "        [0., 0., 0., 0., 0., 0., 0., 0., 0., 0., 1., 0., 0., 0., 0., 0.],\n",
       "        [0., 0., 0., 0., 0., 0., 0., 0., 0., 0., 0., 1., 0., 0., 0., 0.],\n",
       "        [0., 0., 0., 0., 0., 0., 0., 0., 0., 0., 0., 0., 1., 0., 0., 0.],\n",
       "        [0., 0., 0., 0., 0., 0., 0., 0., 0., 0., 0., 0., 0., 1., 0., 0.],\n",
       "        [0., 0., 0., 0., 0., 0., 0., 0., 0., 0., 0., 0., 0., 0., 1., 0.],\n",
       "        [0., 0., 0., 0., 0., 0., 0., 0., 0., 0., 0., 0., 0., 0., 0., 1.]])"
      ]
     },
     "execution_count": 35,
     "metadata": {},
     "output_type": "execute_result"
    }
   ],
   "source": [
    "y #(16,16)"
   ]
  },
  {
   "cell_type": "code",
   "execution_count": 36,
   "id": "45d889a9-5195-45c7-9cbc-1b8eb26224b7",
   "metadata": {},
   "outputs": [
    {
     "data": {
      "text/plain": [
       "(tensor([[[0., 1., 0., 0., 0., 0., 0., 0., 0., 0., 0., 0., 0., 0., 0., 0.]],\n",
       " \n",
       "         [[0., 0., 0., 0., 0., 1., 0., 0., 0., 0., 0., 0., 0., 0., 0., 0.]],\n",
       " \n",
       "         [[0., 0., 0., 1., 0., 0., 0., 0., 0., 0., 0., 0., 0., 0., 0., 0.]],\n",
       " \n",
       "         [[0., 0., 0., 0., 1., 0., 0., 0., 0., 0., 0., 0., 0., 0., 0., 0.]]]),\n",
       " torch.Size([4, 1, 16]))"
      ]
     },
     "execution_count": 36,
     "metadata": {},
     "output_type": "execute_result"
    }
   ],
   "source": [
    "new_y = y[a]\n",
    "new_y,new_y.shape  # (4, 1, 16)"
   ]
  },
  {
   "cell_type": "code",
   "execution_count": 42,
   "id": "77acf925-d9bd-4c92-90ab-57364c9aaee8",
   "metadata": {},
   "outputs": [
    {
     "name": "stdout",
     "output_type": "stream",
     "text": [
      "tensor([[[0.],\n",
      "         [1.],\n",
      "         [0.],\n",
      "         [0.],\n",
      "         [0.],\n",
      "         [0.],\n",
      "         [0.],\n",
      "         [0.],\n",
      "         [0.],\n",
      "         [0.],\n",
      "         [0.],\n",
      "         [0.],\n",
      "         [0.],\n",
      "         [0.],\n",
      "         [0.],\n",
      "         [0.]],\n",
      "\n",
      "        [[0.],\n",
      "         [0.],\n",
      "         [0.],\n",
      "         [0.],\n",
      "         [0.],\n",
      "         [1.],\n",
      "         [0.],\n",
      "         [0.],\n",
      "         [0.],\n",
      "         [0.],\n",
      "         [0.],\n",
      "         [0.],\n",
      "         [0.],\n",
      "         [0.],\n",
      "         [0.],\n",
      "         [0.]],\n",
      "\n",
      "        [[0.],\n",
      "         [0.],\n",
      "         [0.],\n",
      "         [1.],\n",
      "         [0.],\n",
      "         [0.],\n",
      "         [0.],\n",
      "         [0.],\n",
      "         [0.],\n",
      "         [0.],\n",
      "         [0.],\n",
      "         [0.],\n",
      "         [0.],\n",
      "         [0.],\n",
      "         [0.],\n",
      "         [0.]],\n",
      "\n",
      "        [[0.],\n",
      "         [0.],\n",
      "         [0.],\n",
      "         [0.],\n",
      "         [1.],\n",
      "         [0.],\n",
      "         [0.],\n",
      "         [0.],\n",
      "         [0.],\n",
      "         [0.],\n",
      "         [0.],\n",
      "         [0.],\n",
      "         [0.],\n",
      "         [0.],\n",
      "         [0.],\n",
      "         [0.]]])\n",
      "torch.Size([4, 16, 2048])\n"
     ]
    }
   ],
   "source": [
    "B = 4\n",
    "N = 2048\n",
    "print(new_y.view(B,16,1))\n",
    "cls_label_one_hot = new_y.view(B,16,1).repeat(1,1,N)\n",
    "print(cls_label_one_hot.shape)"
   ]
  },
  {
   "cell_type": "code",
   "execution_count": 43,
   "id": "6b4aaf6e-19f3-4cad-bb74-4caee75c92a0",
   "metadata": {},
   "outputs": [
    {
     "name": "stdout",
     "output_type": "stream",
     "text": [
      "tensor([0., 1., 0., 0., 0., 0., 0., 0., 0., 0., 0., 0., 0., 0., 0., 0.])\n",
      "tensor([0., 1., 0., 0., 0., 0., 0., 0., 0., 0., 0., 0., 0., 0., 0., 0.])\n"
     ]
    },
    {
     "data": {
      "text/plain": [
       "tensor([[[0., 0., 0.,  ..., 0., 0., 0.],\n",
       "         [1., 1., 1.,  ..., 1., 1., 1.],\n",
       "         [0., 0., 0.,  ..., 0., 0., 0.],\n",
       "         ...,\n",
       "         [0., 0., 0.,  ..., 0., 0., 0.],\n",
       "         [0., 0., 0.,  ..., 0., 0., 0.],\n",
       "         [0., 0., 0.,  ..., 0., 0., 0.]],\n",
       "\n",
       "        [[0., 0., 0.,  ..., 0., 0., 0.],\n",
       "         [0., 0., 0.,  ..., 0., 0., 0.],\n",
       "         [0., 0., 0.,  ..., 0., 0., 0.],\n",
       "         ...,\n",
       "         [0., 0., 0.,  ..., 0., 0., 0.],\n",
       "         [0., 0., 0.,  ..., 0., 0., 0.],\n",
       "         [0., 0., 0.,  ..., 0., 0., 0.]],\n",
       "\n",
       "        [[0., 0., 0.,  ..., 0., 0., 0.],\n",
       "         [0., 0., 0.,  ..., 0., 0., 0.],\n",
       "         [0., 0., 0.,  ..., 0., 0., 0.],\n",
       "         ...,\n",
       "         [0., 0., 0.,  ..., 0., 0., 0.],\n",
       "         [0., 0., 0.,  ..., 0., 0., 0.],\n",
       "         [0., 0., 0.,  ..., 0., 0., 0.]],\n",
       "\n",
       "        [[0., 0., 0.,  ..., 0., 0., 0.],\n",
       "         [0., 0., 0.,  ..., 0., 0., 0.],\n",
       "         [0., 0., 0.,  ..., 0., 0., 0.],\n",
       "         ...,\n",
       "         [0., 0., 0.,  ..., 0., 0., 0.],\n",
       "         [0., 0., 0.,  ..., 0., 0., 0.],\n",
       "         [0., 0., 0.,  ..., 0., 0., 0.]]])"
      ]
     },
     "execution_count": 43,
     "metadata": {},
     "output_type": "execute_result"
    }
   ],
   "source": [
    "print(cls_label_one_hot[0,:,0])\n",
    "print(cls_label_one_hot[0,:,1])\n",
    "cls_label_one_hot"
   ]
  },
  {
   "cell_type": "markdown",
   "id": "17c0a6c1-8a27-4664-9282-c7bb79960ba2",
   "metadata": {},
   "source": [
    "## target处理"
   ]
  },
  {
   "cell_type": "code",
   "execution_count": 15,
   "id": "2c6b7aea-c7b9-42b7-846f-5d024391f869",
   "metadata": {},
   "outputs": [
    {
     "name": "stdout",
     "output_type": "stream",
     "text": [
      "tensor([[7, 4, 4,  ..., 3, 9, 4],\n",
      "        [7, 1, 8,  ..., 3, 9, 5],\n",
      "        [8, 4, 7,  ..., 2, 1, 4],\n",
      "        [9, 2, 8,  ..., 5, 9, 1]])\n",
      "tensor([[7],\n",
      "        [4],\n",
      "        [4],\n",
      "        ...,\n",
      "        [5],\n",
      "        [9],\n",
      "        [1]])\n",
      "torch.Size([8192, 1])\n",
      "tensor([7, 4, 4,  ..., 5, 9, 1])\n",
      "torch.Size([8192])\n"
     ]
    }
   ],
   "source": [
    "import torch\n",
    "target = torch.randint(1,10,(4,2048));\n",
    "print(target)\n",
    "print(target.view(-1, 1)) \n",
    "print(target.view(-1, 1).shape) # torch.Size([8192, 1])\n",
    "target = target.view(-1, 1)[:, 0] \n",
    "print(target)\n",
    "print(target.shape)  # torch.Size([8192])"
   ]
  },
  {
   "cell_type": "code",
   "execution_count": 49,
   "id": "7c81ee9f-3ad2-4378-8257-fa902b1fc09d",
   "metadata": {},
   "outputs": [
    {
     "data": {
      "text/plain": [
       "0.6074148125000001"
      ]
     },
     "execution_count": 49,
     "metadata": {},
     "output_type": "execute_result"
    }
   ],
   "source": [
    "import numpy as np\n",
    "arr = np.array([0.729603,0.447213\n",
    " ,0.420438\n",
    " ,0.536066\n",
    " ,0.867272\n",
    " ,0.543938\n",
    " ,0.773823\n",
    " ,0.789088\n",
    " ,0.738931\n",
    " ,0.953616\n",
    " ,0.226290\n",
    " ,0.594772\n",
    " ,0.643531\n",
    " ,0.226034\n",
    " ,0.458957\n",
    " ,0.769065])\n",
    "np.mean(arr)"
   ]
  },
  {
   "cell_type": "markdown",
   "id": "2fa3fd76-66d6-4ffb-bddd-5ef57cb3b807",
   "metadata": {},
   "source": [
    "## loss处理"
   ]
  },
  {
   "cell_type": "code",
   "execution_count": 19,
   "id": "4a6b50d8-85b8-4523-979a-349b8fca098c",
   "metadata": {},
   "outputs": [
    {
     "name": "stdout",
     "output_type": "stream",
     "text": [
      "input:tensor([[ 1.7159e+00, -4.0688e-01, -2.1283e+00, -5.5518e-01,  1.2841e+00],\n",
      "        [-1.6106e+00,  2.3098e-03,  4.9322e-02,  7.8797e-01,  2.3460e+00],\n",
      "        [ 8.8822e-02, -5.9494e-01, -8.9790e-01, -3.3120e-01, -9.8837e-01]],\n",
      "       requires_grad=True)\n",
      " target:tensor([1, 0, 4])\n",
      "log softmax:tensor([[-0.6385, -2.7613, -4.4827, -2.9096, -1.0703],\n",
      "        [-4.3117, -2.6988, -2.6517, -1.9131, -0.3550],\n",
      "        [-1.0561, -1.7398, -2.0428, -1.4761, -2.1333]],\n",
      "       grad_fn=<LogSoftmaxBackward>)\n",
      "output:3.068748712539673\n"
     ]
    }
   ],
   "source": [
    "import torch\n",
    "import torch.nn.functional as F\n",
    "input = torch.randn(3, 5, requires_grad=True)\n",
    "# each element in target has to have 0 <= value < C\n",
    "target = torch.tensor([1, 0, 4])\n",
    "print('input:{}\\n target:{}'.format(input,target))\n",
    "# nll_loss 函数接收两个tensor第一个是模型的output，第二个是label target，output中每一行与一个标签中每一列的元素对应，根据target的取值找出output行中对应位置元素，求和取平均值。\n",
    "print('log softmax:{}'.format(F.log_softmax(input,dim=1)))  \n",
    "output = F.nll_loss(F.log_softmax(input,dim=1), target)\n",
    "print('output:{}'.format(output))\n",
    "output.backward()"
   ]
  },
  {
   "cell_type": "markdown",
   "id": "7be1fe24-a2c1-4685-ac1b-9c82f69558a9",
   "metadata": {},
   "source": [
    "## 点云数据平移"
   ]
  },
  {
   "cell_type": "code",
   "execution_count": 11,
   "id": "9c755834-3448-4b5f-845c-e37f33646d6a",
   "metadata": {},
   "outputs": [],
   "source": [
    "import torch\n",
    "import numpy as np"
   ]
  },
  {
   "cell_type": "code",
   "execution_count": 22,
   "id": "6fc6207a-626e-4289-a2b7-a77890c961c4",
   "metadata": {},
   "outputs": [
    {
     "ename": "TypeError",
     "evalue": "rand(): argument 'size' must be tuple of ints, but found element of type tuple at pos 3",
     "output_type": "error",
     "traceback": [
      "\u001b[1;31m---------------------------------------------------------------------------\u001b[0m",
      "\u001b[1;31mTypeError\u001b[0m                                 Traceback (most recent call last)",
      "\u001b[1;32m<ipython-input-22-292e4dc03ec5>\u001b[0m in \u001b[0;36m<module>\u001b[1;34m\u001b[0m\n\u001b[0;32m      1\u001b[0m \u001b[1;31m# batch_data = torch.randfloat(1.0,10.0,(4,2048,3))\u001b[0m\u001b[1;33m\u001b[0m\u001b[1;33m\u001b[0m\u001b[1;33m\u001b[0m\u001b[0m\n\u001b[1;32m----> 2\u001b[1;33m \u001b[0mtorch\u001b[0m\u001b[1;33m.\u001b[0m\u001b[0mrand\u001b[0m\u001b[1;33m(\u001b[0m\u001b[1;36m1\u001b[0m\u001b[1;33m,\u001b[0m\u001b[1;36m10\u001b[0m\u001b[1;33m,\u001b[0m\u001b[1;33m(\u001b[0m\u001b[1;36m4\u001b[0m\u001b[1;33m,\u001b[0m\u001b[1;36m2048\u001b[0m\u001b[1;33m)\u001b[0m\u001b[1;33m)\u001b[0m\u001b[1;33m\u001b[0m\u001b[1;33m\u001b[0m\u001b[0m\n\u001b[0m",
      "\u001b[1;31mTypeError\u001b[0m: rand(): argument 'size' must be tuple of ints, but found element of type tuple at pos 3"
     ]
    }
   ],
   "source": [
    "# batch_data = torch.randfloat(1.0,10.0,(4,2048,3))\n",
    "torch.rand(1,10,(4,2048))"
   ]
  },
  {
   "cell_type": "code",
   "execution_count": 8,
   "id": "b988a830-8873-4578-873b-bc94afc2b52c",
   "metadata": {},
   "outputs": [
    {
     "name": "stdout",
     "output_type": "stream",
     "text": [
      "torch.Size([4, 2048, 3])\n"
     ]
    },
    {
     "data": {
      "text/plain": [
       "tensor([[[5, 6, 3],\n",
       "         [1, 5, 9],\n",
       "         [3, 6, 5],\n",
       "         ...,\n",
       "         [7, 6, 9],\n",
       "         [9, 3, 5],\n",
       "         [5, 4, 2]],\n",
       "\n",
       "        [[6, 7, 9],\n",
       "         [1, 7, 4],\n",
       "         [8, 9, 5],\n",
       "         ...,\n",
       "         [6, 9, 4],\n",
       "         [5, 7, 8],\n",
       "         [9, 8, 4]],\n",
       "\n",
       "        [[8, 9, 5],\n",
       "         [5, 6, 3],\n",
       "         [7, 3, 7],\n",
       "         ...,\n",
       "         [1, 1, 7],\n",
       "         [9, 5, 1],\n",
       "         [4, 2, 7]],\n",
       "\n",
       "        [[8, 1, 5],\n",
       "         [1, 6, 8],\n",
       "         [5, 3, 6],\n",
       "         ...,\n",
       "         [4, 8, 3],\n",
       "         [1, 4, 1],\n",
       "         [7, 4, 6]]])"
      ]
     },
     "execution_count": 8,
     "metadata": {},
     "output_type": "execute_result"
    }
   ],
   "source": [
    "print(batch_data.shape)\n",
    "batch_data"
   ]
  },
  {
   "cell_type": "code",
   "execution_count": 14,
   "id": "cc0aba87-d1dd-430b-a698-0fe292c567c9",
   "metadata": {},
   "outputs": [
    {
     "name": "stdout",
     "output_type": "stream",
     "text": [
      "4 2048 3\n",
      "[0.89245353 0.95670208 1.1988009  0.94478742]\n"
     ]
    }
   ],
   "source": [
    "B, N, C = batch_data.shape\n",
    "scales = np.random.uniform(0.8, 1.25, B)  # 均匀采样\n",
    "print(B,N,C)\n",
    "print(scales)  # 在0.8-1.25中随机采样"
   ]
  },
  {
   "cell_type": "code",
   "execution_count": 16,
   "id": "a9b3d56e-7067-4046-8564-e5ee2853d390",
   "metadata": {},
   "outputs": [
    {
     "ename": "RuntimeError",
     "evalue": "result type Float can't be cast to the desired output type Long",
     "output_type": "error",
     "traceback": [
      "\u001b[1;31m---------------------------------------------------------------------------\u001b[0m",
      "\u001b[1;31mRuntimeError\u001b[0m                              Traceback (most recent call last)",
      "\u001b[1;32m<ipython-input-16-745955e06fe8>\u001b[0m in \u001b[0;36m<module>\u001b[1;34m\u001b[0m\n\u001b[0;32m      1\u001b[0m \u001b[1;32mfor\u001b[0m \u001b[0mbatch_index\u001b[0m \u001b[1;32min\u001b[0m \u001b[0mrange\u001b[0m\u001b[1;33m(\u001b[0m\u001b[0mB\u001b[0m\u001b[1;33m)\u001b[0m\u001b[1;33m:\u001b[0m\u001b[1;33m\u001b[0m\u001b[1;33m\u001b[0m\u001b[0m\n\u001b[1;32m----> 2\u001b[1;33m     \u001b[0mbatch_data\u001b[0m\u001b[1;33m[\u001b[0m\u001b[0mbatch_index\u001b[0m\u001b[1;33m,\u001b[0m\u001b[1;33m:\u001b[0m\u001b[1;33m,\u001b[0m\u001b[1;33m:\u001b[0m\u001b[1;33m]\u001b[0m \u001b[1;33m*=\u001b[0m \u001b[0mscales\u001b[0m\u001b[1;33m[\u001b[0m\u001b[0mbatch_index\u001b[0m\u001b[1;33m]\u001b[0m\u001b[1;33m\u001b[0m\u001b[1;33m\u001b[0m\u001b[0m\n\u001b[0m\u001b[0;32m      3\u001b[0m \u001b[0mprint\u001b[0m\u001b[1;33m(\u001b[0m\u001b[0mbatch_data\u001b[0m\u001b[1;33m)\u001b[0m\u001b[1;33m\u001b[0m\u001b[1;33m\u001b[0m\u001b[0m\n",
      "\u001b[1;31mRuntimeError\u001b[0m: result type Float can't be cast to the desired output type Long"
     ]
    }
   ],
   "source": [
    "for batch_index in range(B):\n",
    "    batch_data[batch_index,:,:] *= scales[batch_index]\n",
    "print(batch_data)"
   ]
  },
  {
   "cell_type": "code",
   "execution_count": null,
   "id": "f4baabe0-b131-4314-87f9-15a5239bd2a6",
   "metadata": {},
   "outputs": [],
   "source": []
  }
 ],
 "metadata": {
  "kernelspec": {
   "display_name": "pytorch1.6_cuda10.1",
   "language": "python",
   "name": "pytorch1.6_cuda10.1"
  },
  "language_info": {
   "codemirror_mode": {
    "name": "ipython",
    "version": 3
   },
   "file_extension": ".py",
   "mimetype": "text/x-python",
   "name": "python",
   "nbconvert_exporter": "python",
   "pygments_lexer": "ipython3",
   "version": "3.7.10"
  }
 },
 "nbformat": 4,
 "nbformat_minor": 5
}
